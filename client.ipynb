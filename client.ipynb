{
  "nbformat": 4,
  "nbformat_minor": 0,
  "metadata": {
    "colab": {
      "provenance": []
    },
    "kernelspec": {
      "name": "python3",
      "display_name": "Python 3"
    },
    "language_info": {
      "name": "python"
    }
  },
  "cells": [
    {
      "cell_type": "markdown",
      "source": [
        "## Seqtra\n",
        "Chunking plays an important role in Retrieval Augmented Generation (RAG) in order to index the textual data in an appropriate format for retrieval. The size of chunks are usually predetermined, i.e. set or limited by a fixed size during the data ingestion phase. Seqtra combines chunking and retrieving in one stage, i.e. chunking only with respect to the query during retrieval rather than defining chunk boundary during the ingestion phase, making the chunk sizes dynamic and adapted to the query. This strategy is known as late chunking in literature. Seqtra constructs and utilizes graph-based relationships in order to chunk the documents.\n",
        "\n",
        "If you donot have seqtra api key, please generate a free one at https://app.seqtra.com/. Please note that we only accept PDFs for now. Additionally, please do not forget to execute code in the \"End Session\" section before you exit.\n",
        "\n",
        "\n",
        "After generating API key, first let's clone the SeqtraClient repository."
      ],
      "metadata": {
        "id": "St5r0ssivBjf"
      }
    },
    {
      "cell_type": "code",
      "execution_count": 1,
      "metadata": {
        "colab": {
          "base_uri": "https://localhost:8080/"
        },
        "id": "bZpUQA2Put6n",
        "outputId": "857e8489-088c-4653-f44c-dcecfac7365e"
      },
      "outputs": [
        {
          "output_type": "stream",
          "name": "stdout",
          "text": [
            "Cloning into 'SeqtraClient'...\n",
            "remote: Enumerating objects: 132, done.\u001b[K\n",
            "remote: Counting objects: 100% (132/132), done.\u001b[K\n",
            "remote: Compressing objects: 100% (85/85), done.\u001b[K\n",
            "remote: Total 132 (delta 63), reused 100 (delta 35), pack-reused 0 (from 0)\u001b[K\n",
            "Receiving objects: 100% (132/132), 498.04 KiB | 19.16 MiB/s, done.\n",
            "Resolving deltas: 100% (63/63), done.\n"
          ]
        }
      ],
      "source": [
        "!git clone https://github.com/seqtra/SeqtraClient.git"
      ]
    },
    {
      "cell_type": "code",
      "source": [
        "# Switch to the cloned repo\n",
        "%cd SeqtraClient"
      ],
      "metadata": {
        "colab": {
          "base_uri": "https://localhost:8080/"
        },
        "id": "znMWBaATvdcd",
        "outputId": "280c924e-2649-42de-d3e4-23658e91aff8"
      },
      "execution_count": 2,
      "outputs": [
        {
          "output_type": "stream",
          "name": "stdout",
          "text": [
            "/content/SeqtraClient\n"
          ]
        }
      ]
    },
    {
      "cell_type": "markdown",
      "source": [
        "## Install required packages"
      ],
      "metadata": {
        "id": "Er3ynUP4v6hA"
      }
    },
    {
      "cell_type": "code",
      "source": [
        "!pip install -q -r requirements.txt"
      ],
      "metadata": {
        "colab": {
          "base_uri": "https://localhost:8080/"
        },
        "id": "7iJc8ulvvu7F",
        "outputId": "40ceb8b9-8ee6-4e5c-806d-c1d4eb0677e7"
      },
      "execution_count": 3,
      "outputs": [
        {
          "output_type": "stream",
          "name": "stdout",
          "text": [
            "\u001b[?25l     \u001b[90m━━━━━━━━━━━━━━━━━━━━━━━━━━━━━━━━━━━━━━━━\u001b[0m \u001b[32m0.0/117.0 kB\u001b[0m \u001b[31m?\u001b[0m eta \u001b[36m-:--:--\u001b[0m\r\u001b[2K     \u001b[90m━━━━━━━━━━━━━━━━━━━━━━━━━━━━━━━━━━━━━━━\u001b[0m \u001b[32m117.0/117.0 kB\u001b[0m \u001b[31m7.3 MB/s\u001b[0m eta \u001b[36m0:00:00\u001b[0m\n",
            "\u001b[?25h  Preparing metadata (setup.py) ... \u001b[?25l\u001b[?25hdone\n",
            "\u001b[2K     \u001b[90m━━━━━━━━━━━━━━━━━━━━━━━━━━━━━━━━━━━━━━━━\u001b[0m \u001b[32m44.3/44.3 kB\u001b[0m \u001b[31m1.4 MB/s\u001b[0m eta \u001b[36m0:00:00\u001b[0m\n",
            "\u001b[2K   \u001b[90m━━━━━━━━━━━━━━━━━━━━━━━━━━━━━━━━━━━━━━━━\u001b[0m \u001b[32m79.5/79.5 kB\u001b[0m \u001b[31m4.4 MB/s\u001b[0m eta \u001b[36m0:00:00\u001b[0m\n",
            "\u001b[2K   \u001b[90m━━━━━━━━━━━━━━━━━━━━━━━━━━━━━━━━━━━━━━━━\u001b[0m \u001b[32m427.6/427.6 kB\u001b[0m \u001b[31m23.1 MB/s\u001b[0m eta \u001b[36m0:00:00\u001b[0m\n",
            "\u001b[2K   \u001b[90m━━━━━━━━━━━━━━━━━━━━━━━━━━━━━━━━━━━━━━━━\u001b[0m \u001b[32m9.7/9.7 MB\u001b[0m \u001b[31m63.5 MB/s\u001b[0m eta \u001b[36m0:00:00\u001b[0m\n",
            "\u001b[2K   \u001b[90m━━━━━━━━━━━━━━━━━━━━━━━━━━━━━━━━━━━━━━━━\u001b[0m \u001b[32m6.9/6.9 MB\u001b[0m \u001b[31m77.1 MB/s\u001b[0m eta \u001b[36m0:00:00\u001b[0m\n",
            "\u001b[2K   \u001b[90m━━━━━━━━━━━━━━━━━━━━━━━━━━━━━━━━━━━━━━━━\u001b[0m \u001b[32m79.1/79.1 kB\u001b[0m \u001b[31m6.1 MB/s\u001b[0m eta \u001b[36m0:00:00\u001b[0m\n",
            "\u001b[?25h  Building wheel for antlr4-python3-runtime (setup.py) ... \u001b[?25l\u001b[?25hdone\n"
          ]
        }
      ]
    },
    {
      "cell_type": "markdown",
      "source": [
        "## Initialize Seqtra Client"
      ],
      "metadata": {
        "id": "e_huYtBxwb3Y"
      }
    },
    {
      "cell_type": "code",
      "source": [
        "SEQTRA_API_URL = \"https://api.seqtra.com/\"\n",
        "# Please generate API keys at https://app.seqtra.com/, if you haven't done so.\n",
        "SEQTRA_API_TOKEN = \"Your Seqtra API key\"\n",
        "# Setup LLM parameters. You don't have to change anything on this if you want to test it without\n",
        "# LLM. Without LLM, seqtra will only return the relevant chunks.\n",
        "# We only have claude and openai available right now.\n",
        "LLM = \"claude\"\n",
        "LLM_KEY = \"YOUR LLM API KEY\"\n",
        "#This is path for the example files provided with the code. You may change it to your own path where the test files are situated\n",
        "DIR_PATH = \"./Files\"\n",
        "# Project name which will act like a project folder where all your files for the given collection will be stored\n",
        "PROJECT_NAME = \"test\""
      ],
      "metadata": {
        "id": "_ng0vzqOwjkE"
      },
      "execution_count": 12,
      "outputs": []
    },
    {
      "cell_type": "code",
      "source": [
        "from src.seqtra_client import SeqtraClient"
      ],
      "metadata": {
        "id": "kdEJsUXGz3TP"
      },
      "execution_count": 29,
      "outputs": []
    },
    {
      "cell_type": "code",
      "source": [
        "#Initialize the client\n",
        "seqtra = SeqtraClient(\n",
        "    api_token=SEQTRA_API_TOKEN,\n",
        "    project_name=PROJECT_NAME,\n",
        "    url=SEQTRA_API_URL,\n",
        "    llm=LLM,\n",
        "    llm_key=LLM_KEY\n",
        ")"
      ],
      "metadata": {
        "colab": {
          "base_uri": "https://localhost:8080/"
        },
        "id": "VphHXwsMwBtI",
        "outputId": "883fd8fa-07ec-4071-bc84-653edc7cddf7"
      },
      "execution_count": 13,
      "outputs": [
        {
          "output_type": "stream",
          "name": "stdout",
          "text": [
            "Project already initialized\n",
            "Initialization time: 0:00:00.728513\n"
          ]
        }
      ]
    },
    {
      "cell_type": "markdown",
      "source": [
        "## Ingest your test files"
      ],
      "metadata": {
        "id": "5Z8SzHT20rz5"
      }
    },
    {
      "cell_type": "code",
      "source": [
        "seqtra.ingest(DIR_PATH)"
      ],
      "metadata": {
        "colab": {
          "base_uri": "https://localhost:8080/"
        },
        "id": "uAmCJLNY0oX5",
        "outputId": "51ac3a00-e6c3-4816-b79b-71fa4fc97a18"
      },
      "execution_count": 9,
      "outputs": [
        {
          "output_type": "stream",
          "name": "stdout",
          "text": [
            "Ingestion: This can take time for uploading and ingesting the data into our database...\n",
            "Uploaded files ingested into Seqtra database!\n",
            "Ingestion time: 0:00:18.258738\n"
          ]
        }
      ]
    },
    {
      "cell_type": "markdown",
      "source": [
        "## Query the ingested files\n",
        "You would need to set several parameters here, which are explained as follows:\n",
        "1. **query**: Question you want to ask related to the ingested files.\n",
        "2. **num_seed_nodes**: This is equivalent to topk parameter in RAG. It is named so in our service, due to the presence of graph linkages and traversal during chunking and retrieval. You may optimize this for your use case.\n",
        "3. **chunk_only**: Setting this to false provides the answer to the query using LLM along with the retrieved chunks. Setting it to true provides you with only the relevant chunks.\n",
        "**strategy**: We currently provide four strategies to chunk and retrieve relevant context for the given query:<br><br>\n",
        "   &emsp;a) **seed_only**: This is similar to conventional vector based retrieval, where it will only retrieve chunks which are relevant with respect to the given query but by definition, independent with each other. These will be labeled as chunk during the retrieval, but within the database, the actual categories of these chunks are text related class labels of [DocLayNet](https://arxiv.org/pdf/2206.01062) including \"Text\", \"List-item\" and so on.<br><br>\n",
        "   &emsp;b) **seed_extended**: In addition to a), it also retrieves additional context, i.e. other paragraphs and list items of the document section within which the given seed chunk is embedded in the document.<br><br>\n",
        "   &emsp;c) **graph**: Along with chunks in \"seed_only\", it also retrieves additional chunks which are related to the seed chunk, providing additional context. This relationship is established during the ingestion phase either through conceptual linkages, or hyperlink linkages internal to the document (for example, some text pointing to some other paragraph or section within the document).<br><br>\n",
        "   &emsp;d) **graph_extended**: This combines \"graph\" strategy with \"seed_extended\" strategy. This retrieves additional sibling texts of the seed chunk along with the graph linkages.<br>  \n",
        "   You may explore the strategy and adopt the most optimal one for your use case and nature of the document. For example, \"graph\" strategy might suffice for paragraph-heavy documents while legal documents with list-heavy clauses might require to use \"graph_extended\" strategy. So, c) and d) are our major offerings, a) and b) are provided as an additional options which you may find in other services also."
      ],
      "metadata": {
        "id": "q1Vhc48z1NSF"
      }
    },
    {
      "cell_type": "code",
      "source": [
        "query = \"How can the Board and the CCO manage control functions?\"\n",
        "num_seed_nodes = 1\n",
        "chunk_only = False\n",
        "strategy = \"graph_extended\""
      ],
      "metadata": {
        "id": "yozzJIz30nAK"
      },
      "execution_count": 24,
      "outputs": []
    },
    {
      "cell_type": "code",
      "source": [
        "response = seqtra.query(\n",
        "    query = query,\n",
        "    num_seed_nodes = num_seed_nodes,\n",
        "    chunk_only = chunk_only,\n",
        "    strategy = strategy\n",
        ")"
      ],
      "metadata": {
        "colab": {
          "base_uri": "https://localhost:8080/"
        },
        "id": "-IMalY6w1Tqv",
        "outputId": "caf3d840-0b2e-40b4-f465-6a7e718a054b"
      },
      "execution_count": 25,
      "outputs": [
        {
          "output_type": "stream",
          "name": "stdout",
          "text": [
            "This could take some time as LLM generates the answer for the given query...\n",
            "Query time: 0:00:08.733046\n"
          ]
        }
      ]
    },
    {
      "cell_type": "code",
      "source": [
        "response.keys()"
      ],
      "metadata": {
        "colab": {
          "base_uri": "https://localhost:8080/"
        },
        "id": "LCrM7V_Zw7Gr",
        "outputId": "0b10cc93-e11e-4985-b410-5d9b1755faab"
      },
      "execution_count": 22,
      "outputs": [
        {
          "output_type": "execute_result",
          "data": {
            "text/plain": [
              "dict_keys(['chunks', 'graph', 'answer'])"
            ]
          },
          "metadata": {},
          "execution_count": 22
        }
      ]
    },
    {
      "cell_type": "code",
      "source": [
        "# The answer will be empty if you set chunk_only to True\n",
        "print(response['answer'])"
      ],
      "metadata": {
        "colab": {
          "base_uri": "https://localhost:8080/"
        },
        "id": "_GeIpPKx3swH",
        "outputId": "7d50a221-f593-4987-a888-38b6eb77f602"
      },
      "execution_count": 26,
      "outputs": [
        {
          "output_type": "stream",
          "name": "stdout",
          "text": [
            "# How the Board and the CCO Manage Control Functions\n",
            "\n",
            "Based on the provided context, the Board and the Chief Compliance Officer (CCO) have specific responsibilities in managing control functions:\n",
            "\n",
            "## Board's Responsibilities\n",
            "\n",
            "The Board must approve the sharing of compliance function responsibilities between a dedicated compliance unit and other control functions <chunk>chunk_2</chunk>. Specifically, the Board must:\n",
            "\n",
            "1. Approve the appointment, remuneration, and termination of the CCO\n",
            "2. Ensure the CCO has sufficient stature for effective engagement with senior management\n",
            "3. Regularly engage with the CCO to discuss issues faced by the compliance function\n",
            "4. Provide the CCO with direct and unimpeded access to the Board\n",
            "5. Ensure the CCO has sufficient resources and competent officers\n",
            "6. Be satisfied that the overall control environment won't be compromised if the CCO carries out responsibilities for other control functions <chunk>chunk_10</chunk>\n",
            "\n",
            "## CCO's Responsibilities\n",
            "\n",
            "When compliance function responsibilities are shared between a dedicated compliance unit and other control functions, the CCO must:\n",
            "\n",
            "1. Have overall responsibility for coordinating the identification and management of compliance risk at the institution-wide level\n",
            "2. Ensure compliance monitoring and testing are carried out consistently across the institution\n",
            "3. Maintain a sound understanding of compliance risks under the purview of other control functions, including controls applied to manage these risks <chunk>chunk_7</chunk>\n",
            "\n",
            "Additionally, if the CCO assumes responsibilities for other control functions, they must ensure their independence and ability to provide sufficient time, focus, and commitment to compliance function responsibilities is not impaired <chunk>chunk_2</chunk>.\n",
            "\n",
            "## Important Limitations\n",
            "\n",
            "There is a critical restriction: compliance function responsibilities cannot be shared with, nor can the CCO assume responsibilities for, internal audit. This separation is necessary to maintain the effectiveness of the independent review process <chunk>chunk_2</chunk>.\n",
            "\n",
            "## Working Relationships\n",
            "\n",
            "For effective management of control functions, arrangements for coordination among the control functions with the CCO and the compliance unit must be in place. These arrangements should promote a consistent view and approach to compliance risk management across the organization, including through adequate information flows and avenues to seek advice on compliance issues <chunk>chunk_7</chunk>.\n"
          ]
        }
      ]
    },
    {
      "cell_type": "markdown",
      "source": [
        "## How to Interpret the output JSON\n",
        "Keys:\n",
        "\n",
        "1. **\"chunks\"**: JSON object in the format of (\"chunk_i\", \"chunk_id\") key value pairs, where i runs from 1 to n (number of chunks retrieved). \"chunk_id\" represents node id in the graph database.\n",
        "2. **\"answer\"**: Answer to the given query based on retrieved chunks. It will be an empty string if \"chunk_only\" is set to true.\n",
        "3. **\"graph\"**: JSON Object with \"nodes\" and \"edges\" keys. Each is a list of JSON objects each representing a graph node in \"nodes\" case, while a graph edge in \"edges\" case. This graph represents relationship among chunks in \"chunks\" key. if, for example, num_seed_node is set to 1, and you have used one of graph strategies, one of the chunks is the seed node, and additional nodes are retrieved due to their links to the seed node as extracted during the ingestion stage. \"nodes\" data also contains pdf name, page number and bounding box information to locate the exact section of the chunk in the pdf. Bounding box is in the format of (left, top, width, height).\n",
        "\n",
        "You may further rerank and filter the retrieved chunks if it fits your use case.\n"
      ],
      "metadata": {
        "id": "y7novOWa3lLU"
      }
    },
    {
      "cell_type": "markdown",
      "source": [
        "## End Session\n",
        "This will clean up the session state in backend to free up memory and avoid service interruption"
      ],
      "metadata": {
        "id": "CU1KnP4DFAA9"
      }
    },
    {
      "cell_type": "code",
      "source": [
        "seqtra.end_session()"
      ],
      "metadata": {
        "id": "zOc_0h7rFHes",
        "colab": {
          "base_uri": "https://localhost:8080/"
        },
        "outputId": "cea256c5-ffd7-4916-f1d0-453de087df0e"
      },
      "execution_count": 27,
      "outputs": [
        {
          "output_type": "stream",
          "name": "stdout",
          "text": [
            "Successfully ended the session for the project with name test\n"
          ]
        }
      ]
    },
    {
      "cell_type": "markdown",
      "source": [
        "## Delete Project\n",
        "It will delete files uploaded previously along with associated graphs. When uploading new documents not associated with previous project, please delete project or create new project."
      ],
      "metadata": {
        "id": "RakqhRoB33Ev"
      }
    },
    {
      "cell_type": "code",
      "source": [
        "SeqtraClient.remove(\n",
        "    url=SEQTRA_API_URL,\n",
        "    project_name=PROJECT_NAME, # Name of the project you want to delete\n",
        "    api_token=SEQTRA_API_TOKEN\n",
        ")"
      ],
      "metadata": {
        "colab": {
          "base_uri": "https://localhost:8080/",
          "height": 53
        },
        "id": "y-Q2Jzzm370q",
        "outputId": "98aed15a-482d-4fd6-a8a7-c0d69fefd643"
      },
      "execution_count": 28,
      "outputs": [
        {
          "output_type": "stream",
          "name": "stdout",
          "text": [
            "Removing project from the server...\n"
          ]
        },
        {
          "output_type": "execute_result",
          "data": {
            "text/plain": [
              "'Successfully deleted project with name test'"
            ],
            "application/vnd.google.colaboratory.intrinsic+json": {
              "type": "string"
            }
          },
          "metadata": {},
          "execution_count": 28
        }
      ]
    },
    {
      "cell_type": "code",
      "source": [],
      "metadata": {
        "id": "sdb5Pu884rRL"
      },
      "execution_count": null,
      "outputs": []
    }
  ]
}